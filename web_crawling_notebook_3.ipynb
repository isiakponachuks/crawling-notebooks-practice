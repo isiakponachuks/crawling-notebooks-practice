{
 "cells": [
  {
   "cell_type": "markdown",
   "id": "280d638b",
   "metadata": {},
   "source": [
    "# Web Crawling with Python — Notebook 3\n",
    "## Crawling Multiple Pages\n",
    "\n",
    "---\n",
    "\n",
    "### Why Crawl Multiple Pages?\n",
    "\n",
    "Many websites organize content across multiple pages (pagination).  \n",
    "A crawler should be able to navigate through these pages and collect data from all of them.\n"
   ]
  },
  {
   "cell_type": "markdown",
   "id": "f04456ba",
   "metadata": {},
   "source": [
    "---\n",
    "\n",
    "## Task 1: Review — Download and Parse a Single Page\n",
    "\n",
    "Below is a pattern you’ve seen before:\n"
   ]
  },
  {
   "cell_type": "code",
   "execution_count": 2,
   "id": "180dca1c",
   "metadata": {},
   "outputs": [
    {
     "name": "stdout",
     "output_type": "stream",
     "text": [
      "<title>Quotes to Scrape</title>\n"
     ]
    }
   ],
   "source": [
    "import requests\n",
    "from bs4 import BeautifulSoup\n",
    "\n",
    "url = \"https://quotes.toscrape.com/page/1/\"\n",
    "response = requests.get(url)\n",
    "soup = BeautifulSoup(response.text, \"html.parser\")\n",
    "\n",
    "# TODO: Print the page title (as a warmup)\n",
    "title_tag = soup.title\n",
    "print(title_tag)"
   ]
  },
  {
   "cell_type": "markdown",
   "id": "2a8d68d8",
   "metadata": {},
   "source": [
    "---\n",
    "\n",
    "## Task 2: Find and Print All Quotes on the Page\n",
    "\n",
    "This website has quotes inside `<span class=\"text\">`.\n",
    "\n",
    "**Your task:**  \n",
    "- Find all `<span>` tags with class `\"text\"`\n",
    "- Print the text of each quote\n"
   ]
  },
  {
   "cell_type": "code",
   "execution_count": 3,
   "id": "30978f8e",
   "metadata": {},
   "outputs": [
    {
     "name": "stdout",
     "output_type": "stream",
     "text": [
      "<span class=\"text\" itemprop=\"text\">“The world as we have created it is a process of our thinking. It cannot be changed without changing our thinking.”</span>\n",
      "\n",
      "<span class=\"text\" itemprop=\"text\">“It is our choices, Harry, that show what we truly are, far more than our abilities.”</span>\n",
      "\n",
      "<span class=\"text\" itemprop=\"text\">“There are only two ways to live your life. One is as though nothing is a miracle. The other is as though everything is a miracle.”</span>\n",
      "\n",
      "<span class=\"text\" itemprop=\"text\">“The person, be it gentleman or lady, who has not pleasure in a good novel, must be intolerably stupid.”</span>\n",
      "\n",
      "<span class=\"text\" itemprop=\"text\">“Imperfection is beauty, madness is genius and it's better to be absolutely ridiculous than absolutely boring.”</span>\n",
      "\n",
      "<span class=\"text\" itemprop=\"text\">“Try not to become a man of success. Rather become a man of value.”</span>\n",
      "\n",
      "<span class=\"text\" itemprop=\"text\">“It is better to be hated for what you are than to be loved for what you are not.”</span>\n",
      "\n",
      "<span class=\"text\" itemprop=\"text\">“I have not failed. I've just found 10,000 ways that won't work.”</span>\n",
      "\n",
      "<span class=\"text\" itemprop=\"text\">“A woman is like a tea bag; you never know how strong it is until it's in hot water.”</span>\n",
      "\n",
      "<span class=\"text\" itemprop=\"text\">“A day without sunshine is like, you know, night.”</span>\n",
      "\n"
     ]
    }
   ],
   "source": [
    "# Starter:\n",
    "quotes = soup.find_all(\"span\", class_=\"text\")\n",
    "\n",
    "# TODO: Loop through 'quotes' and print each quote text\n",
    "for quote in quotes:\n",
    "     print(quote, end=\"\\n\" * 2)\n",
    "    "
   ]
  },
  {
   "cell_type": "markdown",
   "id": "ba9e8dbd",
   "metadata": {},
   "source": [
    "---\n",
    "\n",
    "## Task 3: Crawling Multiple Pages (Pagination)\n",
    "\n",
    "On this site, there is a **Next** button at the bottom of each page.  \n",
    "The button’s HTML looks like: `<li class=\"next\"><a href=\"/page/2/\">Next <span aria-hidden=\"true\">→</span></a></li>`\n",
    "\n",
    "**Your task:**  \n",
    "- Check if there is a **Next** page\n",
    "- If so, get its URL and repeat the crawling process\n",
    "\n",
    "**Hint:** Use a `while` loop.\n",
    "\n",
    "**Below is a starter:**\n"
   ]
  },
  {
   "cell_type": "code",
   "execution_count": 10,
   "id": "58efe38f",
   "metadata": {},
   "outputs": [
    {
     "name": "stdout",
     "output_type": "stream",
     "text": [
      "Quote: “The world as we have created it is a process of our thinking. It cannot be changed without changing our thinking.”\n",
      "Quote: “It is our choices, Harry, that show what we truly are, far more than our abilities.”\n",
      "Quote: “There are only two ways to live your life. One is as though nothing is a miracle. The other is as though everything is a miracle.”\n",
      "Quote: “The person, be it gentleman or lady, who has not pleasure in a good novel, must be intolerably stupid.”\n",
      "Quote: “Imperfection is beauty, madness is genius and it's better to be absolutely ridiculous than absolutely boring.”\n",
      "Quote: “Try not to become a man of success. Rather become a man of value.”\n",
      "Quote: “It is better to be hated for what you are than to be loved for what you are not.”\n",
      "Quote: “I have not failed. I've just found 10,000 ways that won't work.”\n",
      "Quote: “A woman is like a tea bag; you never know how strong it is until it's in hot water.”\n",
      "Quote: “A day without sunshine is like, you know, night.”\n",
      "Quote: “This life is what you make it. No matter what, you're going to mess up sometimes, it's a universal truth. But the good part is you get to decide how you're going to mess it up. Girls will be your friends - they'll act like it anyway. But just remember, some come, some go. The ones that stay with you through everything - they're your true best friends. Don't let go of them. Also remember, sisters make the best friends in the world. As for lovers, well, they'll come and go too. And baby, I hate to say it, most of them - actually pretty much all of them are going to break your heart, but you can't give up because if you give up, you'll never find your soulmate. You'll never find that half who makes you whole and that goes for everything. Just because you fail once, doesn't mean you're gonna fail at everything. Keep trying, hold on, and always, always, always believe in yourself, because if you don't, then who will, sweetie? So keep your head high, keep your chin up, and most importantly, keep smiling, because life's a beautiful thing and there's so much to smile about.”\n",
      "Quote: “It takes a great deal of bravery to stand up to our enemies, but just as much to stand up to our friends.”\n",
      "Quote: “If you can't explain it to a six year old, you don't understand it yourself.”\n",
      "Quote: “You may not be her first, her last, or her only. She loved before she may love again. But if she loves you now, what else matters? She's not perfect—you aren't either, and the two of you may never be perfect together but if she can make you laugh, cause you to think twice, and admit to being human and making mistakes, hold onto her and give her the most you can. She may not be thinking about you every second of the day, but she will give you a part of her that she knows you can break—her heart. So don't hurt her, don't change her, don't analyze and don't expect more than she can give. Smile when she makes you happy, let her know when she makes you mad, and miss her when she's not there.”\n",
      "Quote: “I like nonsense, it wakes up the brain cells. Fantasy is a necessary ingredient in living.”\n",
      "Quote: “I may not have gone where I intended to go, but I think I have ended up where I needed to be.”\n",
      "Quote: “The opposite of love is not hate, it's indifference. The opposite of art is not ugliness, it's indifference. The opposite of faith is not heresy, it's indifference. And the opposite of life is not death, it's indifference.”\n",
      "Quote: “It is not a lack of love, but a lack of friendship that makes unhappy marriages.”\n",
      "Quote: “Good friends, good books, and a sleepy conscience: this is the ideal life.”\n",
      "Quote: “Life is what happens to us while we are making other plans.”\n",
      "Quote: “I love you without knowing how, or when, or from where. I love you simply, without problems or pride: I love you in this way because I do not know any other way of loving but this, in which there is no I or you, so intimate that your hand upon my chest is my hand, so intimate that when I fall asleep your eyes close.”\n",
      "Quote: “For every minute you are angry you lose sixty seconds of happiness.”\n",
      "Quote: “If you judge people, you have no time to love them.”\n",
      "Quote: “Anyone who thinks sitting in church can make you a Christian must also think that sitting in a garage can make you a car.”\n",
      "Quote: “Beauty is in the eye of the beholder and it may be necessary from time to time to give a stupid or misinformed beholder a black eye.”\n",
      "Quote: “Today you are You, that is truer than true. There is no one alive who is Youer than You.”\n",
      "Quote: “If you want your children to be intelligent, read them fairy tales. If you want them to be more intelligent, read them more fairy tales.”\n",
      "Quote: “It is impossible to live without failing at something, unless you live so cautiously that you might as well not have lived at all - in which case, you fail by default.”\n",
      "Quote: “Logic will get you from A to Z; imagination will get you everywhere.”\n",
      "Quote: “One good thing about music, when it hits you, you feel no pain.”\n",
      "Quote: “The more that you read, the more things you will know. The more that you learn, the more places you'll go.”\n",
      "Quote: “Of course it is happening inside your head, Harry, but why on earth should that mean that it is not real?”\n",
      "Quote: “The truth is, everyone is going to hurt you. You just got to find the ones worth suffering for.”\n",
      "Quote: “Not all of us can do great things. But we can do small things with great love.”\n",
      "Quote: “To the well-organized mind, death is but the next great adventure.”\n",
      "Quote: “All you need is love. But a little chocolate now and then doesn't hurt.”\n",
      "Quote: “We read to know we're not alone.”\n",
      "Quote: “Any fool can know. The point is to understand.”\n",
      "Quote: “I have always imagined that Paradise will be a kind of library.”\n",
      "Quote: “It is never too late to be what you might have been.”\n",
      "Quote: “A reader lives a thousand lives before he dies, said Jojen. The man who never reads lives only one.”\n",
      "Quote: “You can never get a cup of tea large enough or a book long enough to suit me.”\n",
      "Quote: “You believe lies so you eventually learn to trust no one but yourself.”\n",
      "Quote: “If you can make a woman laugh, you can make her do anything.”\n",
      "Quote: “Life is like riding a bicycle. To keep your balance, you must keep moving.”\n",
      "Quote: “The real lover is the man who can thrill you by kissing your forehead or smiling into your eyes or just staring into space.”\n",
      "Quote: “A wise girl kisses but doesn't love, listens but doesn't believe, and leaves before she is left.”\n",
      "Quote: “Only in the darkness can you see the stars.”\n",
      "Quote: “It matters not what someone is born, but what they grow to be.”\n",
      "Quote: “Love does not begin and end the way we seem to think it does. Love is a battle, love is a war; love is a growing up.”\n",
      "Quote: “There is nothing I would not do for those who are really my friends. I have no notion of loving people by halves, it is not my nature.”\n",
      "Quote: “Do one thing every day that scares you.”\n",
      "Quote: “I am good, but not an angel. I do sin, but I am not the devil. I am just a small girl in a big world trying to find someone to love.”\n",
      "Quote: “If I were not a physicist, I would probably be a musician. I often think in music. I live my daydreams in music. I see my life in terms of music.”\n",
      "Quote: “If you only read the books that everyone else is reading, you can only think what everyone else is thinking.”\n",
      "Quote: “The difference between genius and stupidity is: genius has its limits.”\n",
      "Quote: “He's like a drug for you, Bella.”\n",
      "Quote: “There is no friend as loyal as a book.”\n",
      "Quote: “When one door of happiness closes, another opens; but often we look so long at the closed door that we do not see the one which has been opened for us.”\n",
      "Quote: “Life isn't about finding yourself. Life is about creating yourself.”\n",
      "Quote: “That's the problem with drinking, I thought, as I poured myself a drink. If something bad happens you drink in an attempt to forget; if something good happens you drink in order to celebrate; and if nothing happens you drink to make something happen.”\n",
      "Quote: “You don’t forget the face of the person who was your last hope.”\n",
      "Quote: “Remember, we're madly in love, so it's all right to kiss me anytime you feel like it.”\n",
      "Quote: “To love at all is to be vulnerable. Love anything and your heart will be wrung and possibly broken. If you want to make sure of keeping it intact you must give it to no one, not even an animal. Wrap it carefully round with hobbies and little luxuries; avoid all entanglements. Lock it up safe in the casket or coffin of your selfishness. But in that casket, safe, dark, motionless, airless, it will change. It will not be broken; it will become unbreakable, impenetrable, irredeemable. To love is to be vulnerable.”\n",
      "Quote: “Not all those who wander are lost.”\n",
      "Quote: “Do not pity the dead, Harry. Pity the living, and, above all those who live without love.”\n",
      "Quote: “There is nothing to writing. All you do is sit down at a typewriter and bleed.”\n",
      "Quote: “Finish each day and be done with it. You have done what you could. Some blunders and absurdities no doubt crept in; forget them as soon as you can. Tomorrow is a new day. You shall begin it serenely and with too high a spirit to be encumbered with your old nonsense.”\n",
      "Quote: “I have never let my schooling interfere with my education.”\n",
      "Quote: “I have heard there are troubles of more than one kind. Some come from ahead and some come from behind. But I've bought a big bat. I'm all ready you see. Now my troubles are going to have troubles with me!”\n",
      "Quote: “If I had a flower for every time I thought of you...I could walk through my garden forever.”\n",
      "Quote: “Some people never go crazy. What truly horrible lives they must lead.”\n",
      "Quote: “The trouble with having an open mind, of course, is that people will insist on coming along and trying to put things in it.”\n",
      "Quote: “Think left and think right and think low and think high. Oh, the thinks you can think up if only you try!”\n",
      "Quote: “What really knocks me out is a book that, when you're all done reading it, you wish the author that wrote it was a terrific friend of yours and you could call him up on the phone whenever you felt like it. That doesn't happen much, though.”\n",
      "Quote: “The reason I talk to myself is because I’m the only one whose answers I accept.”\n",
      "Quote: “You may say I'm a dreamer, but I'm not the only one. I hope someday you'll join us. And the world will live as one.”\n",
      "Quote: “I am free of all prejudice. I hate everyone equally. ”\n",
      "Quote: “The question isn't who is going to let me; it's who is going to stop me.”\n",
      "Quote: “′Classic′ - a book which people praise and don't read.”\n",
      "Quote: “Anyone who has never made a mistake has never tried anything new.”\n",
      "Quote: “A lady's imagination is very rapid; it jumps from admiration to love, from love to matrimony in a moment.”\n",
      "Quote: “Remember, if the time should come when you have to make a choice between what is right and what is easy, remember what happened to a boy who was good, and kind, and brave, because he strayed across the path of Lord Voldemort. Remember Cedric Diggory.”\n",
      "Quote: “I declare after all there is no enjoyment like reading! How much sooner one tires of any thing than of a book! -- When I have a house of my own, I shall be miserable if I have not an excellent library.”\n",
      "Quote: “There are few people whom I really love, and still fewer of whom I think well. The more I see of the world, the more am I dissatisfied with it; and every day confirms my belief of the inconsistency of all human characters, and of the little dependence that can be placed on the appearance of merit or sense.”\n",
      "Quote: “Some day you will be old enough to start reading fairy tales again.”\n",
      "Quote: “We are not necessarily doubting that God will do the best for us; we are wondering how painful the best will turn out to be.”\n",
      "Quote: “The fear of death follows from the fear of life. A man who lives fully is prepared to die at any time.”\n",
      "Quote: “A lie can travel half way around the world while the truth is putting on its shoes.”\n",
      "Quote: “I believe in Christianity as I believe that the sun has risen: not only because I see it, but because by it I see everything else.”\n",
      "Quote: “The truth.\" Dumbledore sighed. \"It is a beautiful and terrible thing, and should therefore be treated with great caution.”\n",
      "Quote: “I'm the one that's got to die when it's time for me to die, so let me live my life the way I want to.”\n",
      "Quote: “To die will be an awfully big adventure.”\n",
      "Quote: “It takes courage to grow up and become who you really are.”\n",
      "Quote: “But better to get hurt by the truth than comforted with a lie.”\n",
      "Quote: “You never really understand a person until you consider things from his point of view... Until you climb inside of his skin and walk around in it.”\n",
      "Quote: “You have to write the book that wants to be written. And if the book will be too difficult for grown-ups, then you write it for children.”\n",
      "Quote: “Never tell the truth to people who are not worthy of it.”\n",
      "Quote: “A person's a person, no matter how small.”\n",
      "Quote: “... a mind needs books as a sword needs a whetstone, if it is to keep its edge.”\n"
     ]
    }
   ],
   "source": [
    "base_url = \"https://quotes.toscrape.com\"\n",
    "page_url = \"/page/1/\"\n",
    "all_quotes = []\n",
    "\n",
    "while page_url:\n",
    "    full_url = base_url + page_url\n",
    "    response = requests.get(full_url)\n",
    "    soup = BeautifulSoup(response.text, \"html.parser\")\n",
    "\n",
    "    # TODO: Extract and print quotes on this page (reuse your code from above)\n",
    "    quotes = soup.find_all(\"div\", class_=\"quote\")\n",
    "    for quote in quotes:\n",
    "        quote_text = quote.find(\"span\", class_=\"text\").text\n",
    "        print(f\"Quote: {quote_text}\")\n",
    "    \n",
    "\n",
    "    # Find the Next button and update page_url (or set to None if there is no next page)\n",
    "    next_btn = soup.find(\"li\", class_=\"next\")\n",
    "    if next_btn:\n",
    "        next_link = next_btn.find(\"a\")[\"href\"]\n",
    "        page_url = next_link\n",
    "    else:\n",
    "        page_url = None\n"
   ]
  },
  {
   "cell_type": "markdown",
   "id": "dbab2a59",
   "metadata": {},
   "source": [
    "---\n",
    "\n",
    "## Task 4: Store All Quotes\n",
    "\n",
    "**Modify your loop:**  \n",
    "Instead of just printing, **append** all quote texts to the `all_quotes` list.\n",
    "\n",
    "After crawling all pages, print the total number of quotes collected.\n"
   ]
  },
  {
   "cell_type": "code",
   "execution_count": 12,
   "id": "5e22da36",
   "metadata": {},
   "outputs": [
    {
     "name": "stdout",
     "output_type": "stream",
     "text": [
      "[{'text': '“... a mind needs books as a sword needs a whetstone, if it is to keep its edge.”'}]\n"
     ]
    }
   ],
   "source": [
    "# TODO: Store all quotes in the all_quotes list, then print the total count at the end\n",
    "all_quotes.append({\n",
    "            \"text\": quote_text\n",
    "        })\n",
    "\n",
    "print(all_quotes)"
   ]
  },
  {
   "cell_type": "markdown",
   "id": "ab7e6cc5",
   "metadata": {},
   "source": [
    "---\n",
    "\n",
    "## Challenge: Save Quotes to a File\n",
    "\n",
    "**Optional:**  \n",
    "- Write all the quotes you collected into a text file, one per line.\n"
   ]
  },
  {
   "cell_type": "code",
   "execution_count": 16,
   "id": "4eb3d043",
   "metadata": {},
   "outputs": [
    {
     "name": "stdout",
     "output_type": "stream",
     "text": [
      "All quotes saved to quotes.txt\n"
     ]
    }
   ],
   "source": [
    "# TODO: Save the quotes in 'all_quotes' to a file (e.g., quotes.txt)\n",
    "output_file = \"quotes.txt\"\n",
    "with open(output_file, \"w\", encoding=\"utf-8\") as f:\n",
    "    for quote_content in all_quotes:\n",
    "        f.write(quote_text + \"\\n\") # Write each quote on a new line\n",
    "\n",
    "print(f\"All quotes saved to {output_file}\")\n"
   ]
  },
  {
   "cell_type": "markdown",
   "id": "1f6471e2",
   "metadata": {},
   "source": [
    "---\n",
    "\n",
    "## Reflection\n",
    "\n",
    "- What challenges did you face with pagination?\n",
    "- How might you adapt this approach for sites with more complex navigation?\n",
    "\n",
    "- Write your thoughts here:_\n",
    "\n",
    "- The primary challenges with the specific pagination approach shown (looking for a li with class next and an \"a\" tag within it) stem from the variability of website structures Inconsistent HTML Structure, Rate Limiting and IP Blocking, Session/Login Requirements\n",
    "- In summary, the key to adapting for complex pagination is a deeper understanding of how the target website works, particularly how it loads new content. This almost always involves careful inspection of the HTML structure and often, the network requests made by your browser."
   ]
  }
 ],
 "metadata": {
  "kernelspec": {
   "display_name": "Python 3 (ipykernel)",
   "language": "python",
   "name": "python3"
  },
  "language_info": {
   "codemirror_mode": {
    "name": "ipython",
    "version": 3
   },
   "file_extension": ".py",
   "mimetype": "text/x-python",
   "name": "python",
   "nbconvert_exporter": "python",
   "pygments_lexer": "ipython3",
   "version": "3.13.5"
  }
 },
 "nbformat": 4,
 "nbformat_minor": 5
}
