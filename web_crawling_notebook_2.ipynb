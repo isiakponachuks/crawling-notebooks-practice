{
 "cells": [
  {
   "cell_type": "markdown",
   "id": "5f7fcff7",
   "metadata": {},
   "source": [
    "# Web Crawling with Python — Notebook 2\n",
    "## Getting Started with BeautifulSoup\n",
    "\n",
    "---\n",
    "\n",
    "### What is BeautifulSoup?\n",
    "\n",
    "**BeautifulSoup** is a Python library used to parse HTML and XML documents and extract useful information.\n"
   ]
  },
  {
   "cell_type": "markdown",
   "id": "d9188214",
   "metadata": {},
   "source": [
    "---\n",
    "\n",
    "## Task 1: Import the Library\n",
    "\n",
    "Below is how to import the BeautifulSoup class.  \n",
    "Complete the code as needed.\n"
   ]
  },
  {
   "cell_type": "code",
   "execution_count": null,
   "id": "7d15d411",
   "metadata": {},
   "outputs": [],
   "source": [
    "# Example: Importing the library\n",
    "from bs4 import BeautifulSoup\n",
    "\n",
    "# TODO: Import any other libraries you need for web requests\n"
   ]
  },
  {
   "cell_type": "markdown",
   "id": "a8727ad8",
   "metadata": {},
   "source": [
    "---\n",
    "\n",
    "## Task 2: Download and Parse a Web Page\n",
    "\n",
    "The code below sets a URL and makes a request.  \n",
    "**Your task:** Complete the code to download the page and create a BeautifulSoup object named `soup`.\n"
   ]
  },
  {
   "cell_type": "code",
   "execution_count": null,
   "id": "c9b1aa2f",
   "metadata": {},
   "outputs": [],
   "source": [
    "import requests\n",
    "\n",
    "url = \"https://www.example.com\"\n",
    "response = requests.get(url)\n",
    "\n",
    "# TODO: Parse the response content with BeautifulSoup and assign to 'soup'\n",
    "# soup = BeautifulSoup( ... )\n"
   ]
  },
  {
   "cell_type": "markdown",
   "id": "d873c7df",
   "metadata": {},
   "source": [
    "---\n",
    "\n",
    "## Task 3: Inspect the Parsed HTML\n",
    "\n",
    "Here’s how you might print part of the HTML.\n",
    "\n",
    "**Your task:** Use the `.prettify()` method to print the parsed HTML in a readable way.\n"
   ]
  },
  {
   "cell_type": "code",
   "execution_count": null,
   "id": "d1fe8ed2",
   "metadata": {},
   "outputs": [],
   "source": [
    "# Example:\n",
    "# print(soup.prettify())\n",
    "\n",
    "# TODO: Uncomment and run the print statement above with your soup object\n"
   ]
  },
  {
   "cell_type": "markdown",
   "id": "6609dd71",
   "metadata": {},
   "source": [
    "---\n",
    "\n",
    "## Task 4: Extracting the Title\n",
    "\n",
    "Below is the pattern for getting the page title with BeautifulSoup.\n",
    "\n",
    "**Your task:** Complete the code to print only the page title.\n"
   ]
  },
  {
   "cell_type": "code",
   "execution_count": null,
   "id": "b95d8375",
   "metadata": {},
   "outputs": [],
   "source": [
    "# Example:\n",
    "# title_tag = soup.title\n",
    "\n",
    "# TODO: Print just the text of the title tag (not the entire tag)\n",
    "# print( ... )\n"
   ]
  },
  {
   "cell_type": "markdown",
   "id": "e978fae4",
   "metadata": {},
   "source": [
    "---\n",
    "\n",
    "## Task 5: Extracting All Links\n",
    "\n",
    "Use the pattern below to find all `<a>` tags.\n",
    "\n",
    "**Your task:** Loop over all the `<a>` tags and print the value of their `href` attributes.\n"
   ]
  },
  {
   "cell_type": "code",
   "execution_count": null,
   "id": "cb53f7ce",
   "metadata": {},
   "outputs": [],
   "source": [
    "# Example:\n",
    "# links = soup.find_all('a')\n",
    "\n",
    "# TODO: Loop through 'links' and print each 'href' attribute\n",
    "# for link in links:\n",
    "#     print( ... )\n"
   ]
  },
  {
   "cell_type": "markdown",
   "id": "8c86b00f",
   "metadata": {},
   "source": [
    "---\n",
    "\n",
    "## Challenge: Try Another Website\n",
    "\n",
    "Repeat the process (download, parse, extract title and links) with a different website, like \"https://www.python.org\".\n"
   ]
  },
  {
   "cell_type": "code",
   "execution_count": null,
   "id": "3d6ac054",
   "metadata": {},
   "outputs": [],
   "source": [
    "# TODO: Repeat the workflow for another URL of your choice\n"
   ]
  },
  {
   "cell_type": "markdown",
   "id": "fe44a272",
   "metadata": {},
   "source": [
    "---\n",
    "\n",
    "## Reflection\n",
    "\n",
    "- What differences did you see between the two websites’ HTML?\n",
    "- Were there any errors or challenges?\n",
    "\n",
    "_Write your observations here:_\n"
   ]
  },
  {
   "cell_type": "markdown",
   "id": "f0ef57e4",
   "metadata": {},
   "source": []
  }
 ],
 "metadata": {
  "language_info": {
   "name": "python"
  }
 },
 "nbformat": 4,
 "nbformat_minor": 5
}
