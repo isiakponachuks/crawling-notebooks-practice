{
 "cells": [
  {
   "cell_type": "markdown",
   "id": "d18392f3",
   "metadata": {},
   "source": [
    "# Web Crawling with Python — Notebook 1\n",
    "## Introduction to Web Crawling\n",
    "\n",
    "---\n",
    "\n",
    "### What is Web Crawling?\n",
    "\n",
    "A **web crawler** is a program that automatically navigates the web, downloads web pages, and extracts useful information.  \n",
    "Crawlers are used for search engines, data analysis, research, and more.\n",
    "\n",
    "---\n",
    "\n",
    "## Task 1: Why Web Crawling?\n",
    "\n",
    "List some real-life examples where web crawling could be useful.\n",
    "\n",
    "_Write your ideas below:_\n"
   ]
  },
  {
   "cell_type": "markdown",
   "id": "c3b36cb6",
   "metadata": {},
   "source": []
  },
  {
   "cell_type": "markdown",
   "id": "195d0c00",
   "metadata": {},
   "source": [
    "---\n",
    "\n",
    "## Task 2: Installing Required Libraries\n",
    "\n",
    "For web crawling in Python, you will usually need:\n",
    "- `requests` for downloading web pages\n",
    "- `BeautifulSoup` (from `bs4`) for parsing HTML\n",
    "\n",
    "You can install them using pip.\n",
    "\n",
    "**Starter:**  \n",
    "Uncomment the code below if you need to install the libraries.\n",
    "\n"
   ]
  },
  {
   "cell_type": "markdown",
   "id": "33fec686",
   "metadata": {},
   "source": []
  },
  {
   "cell_type": "code",
   "execution_count": null,
   "id": "f3f306ce",
   "metadata": {},
   "outputs": [],
   "source": [
    "# !pip install requests beautifulsoup4"
   ]
  },
  {
   "cell_type": "markdown",
   "id": "c2d1d78c",
   "metadata": {},
   "source": [
    "---\n",
    "\n",
    "## Task 3: Importing Libraries\n",
    "\n",
    "Import the libraries you will need for the following tasks.\n",
    "\n",
    "**Starter:**\n"
   ]
  },
  {
   "cell_type": "code",
   "execution_count": null,
   "id": "fe2c852e",
   "metadata": {},
   "outputs": [],
   "source": [
    "# TODO: Import requests and BeautifulSoup"
   ]
  },
  {
   "cell_type": "markdown",
   "id": "222e9439",
   "metadata": {},
   "source": [
    "---\n",
    "\n",
    "## Task 4: Downloading a Web Page\n",
    "\n",
    "Set a variable `url` to `\"https://www.example.com\"`  \n",
    "Use `requests.get()` to download it and assign the response to a variable.\n",
    "\n",
    "**Starter:**\n"
   ]
  },
  {
   "cell_type": "code",
   "execution_count": null,
   "id": "8593db5d",
   "metadata": {},
   "outputs": [],
   "source": [
    "url = \"https://www.example.com\"\n",
    "# TODO: Download the page and store the response"
   ]
  },
  {
   "cell_type": "markdown",
   "id": "c191fcc2",
   "metadata": {},
   "source": [
    "---\n",
    "\n",
    "## Task 5: Checking the Response\n",
    "\n",
    "Print the **status code** of the response to see if the request was successful (should be 200).\n",
    "\n",
    "**Starter:**\n"
   ]
  },
  {
   "cell_type": "code",
   "execution_count": null,
   "id": "3a2500b6",
   "metadata": {},
   "outputs": [],
   "source": [
    "# TODO: Print the status code of the response"
   ]
  },
  {
   "cell_type": "markdown",
   "id": "3a695080",
   "metadata": {},
   "source": [
    "---\n",
    "\n",
    "## Task 6: Viewing the Page Content\n",
    "\n",
    "Print the first 500 characters of the HTML content you downloaded.\n",
    "\n",
    "**Starter:**\n"
   ]
  },
  {
   "cell_type": "code",
   "execution_count": null,
   "id": "a502a418",
   "metadata": {},
   "outputs": [],
   "source": [
    "# TODO: Print the first 500 characters of the response text"
   ]
  },
  {
   "cell_type": "markdown",
   "id": "f3c4021b",
   "metadata": {},
   "source": [
    "---\n",
    "\n",
    "## Challenge: Try Another Site\n",
    "\n",
    "Repeat the download process for another website, for example `\"https://www.python.org\"`.  \n",
    "Print its status code and the first 500 characters.\n",
    "\n"
   ]
  },
  {
   "cell_type": "code",
   "execution_count": null,
   "id": "4de35b17",
   "metadata": {},
   "outputs": [],
   "source": [
    "# TODO: Download another site and print its status code and first 500 characters"
   ]
  },
  {
   "cell_type": "markdown",
   "id": "36c620d9",
   "metadata": {},
   "source": [
    "---\n",
    "\n",
    "## Reflection\n",
    "\n",
    "- What kinds of information do you see in the HTML?\n",
    "- Did you encounter any issues or errors?\n",
    "- What do you think you could do with this data in the next steps?\n",
    "\n",
    "_Write your thoughts here:_\n"
   ]
  },
  {
   "cell_type": "markdown",
   "id": "1fea1b5d",
   "metadata": {},
   "source": []
  }
 ],
 "metadata": {
  "language_info": {
   "name": "python"
  }
 },
 "nbformat": 4,
 "nbformat_minor": 5
}
